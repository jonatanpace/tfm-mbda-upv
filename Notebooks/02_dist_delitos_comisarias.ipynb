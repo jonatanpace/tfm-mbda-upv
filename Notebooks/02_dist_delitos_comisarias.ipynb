{
 "cells": [
  {
   "cell_type": "code",
   "execution_count": 1,
   "metadata": {},
   "outputs": [
    {
     "name": "stdout",
     "output_type": "stream",
     "text": [
      "La distancia más corta desde el punto (40.7128, -74.006) es 129724.92818905499 metros.\n",
      "La distancia más corta desde el punto (41.8781, -87.6298) es 1070572.5893191616 metros.\n",
      "La distancia más corta desde el punto (37.7749, -122.4194) es 0.0 metros.\n"
     ]
    },
    {
     "name": "stderr",
     "output_type": "stream",
     "text": [
      "/var/folders/rl/8r_3m_r94_j58zn6wmg4r9m80000gn/T/ipykernel_4582/452473446.py:1: DeprecationWarning: \n",
      "Pyarrow will become a required dependency of pandas in the next major release of pandas (pandas 3.0),\n",
      "(to allow more performant data types, such as the Arrow string type, and better interoperability with other libraries)\n",
      "but was not found to be installed on your system.\n",
      "If this would cause problems for you,\n",
      "please provide us feedback at https://github.com/pandas-dev/pandas/issues/54466\n",
      "        \n",
      "  import pandas as pd\n"
     ]
    }
   ],
   "source": [
    "import pandas as pd\n",
    "from geopy.distance import geodesic\n",
    "\n",
    "# Supongamos que tienes los DataFrames df1 y df2 con las columnas 'latitud' y 'longitud'\n",
    "\n",
    "# Ejemplo de datos\n",
    "data1 = {'latitud': [40.7128, 41.8781, 37.7749], 'longitud': [-74.0060, -87.6298, -122.4194]}\n",
    "data2 = {'latitud': [39.9526, 34.0522, 37.7749], 'longitud': [-75.1652, -118.2437, -122.4194]}\n",
    "\n",
    "df1 = pd.DataFrame(data1)\n",
    "df2 = pd.DataFrame(data2)\n",
    "\n",
    "# Función para calcular la distancia más corta entre un punto en df1 y todos los puntos en df2\n",
    "def calcular_distancia(lat1, lon1, df2):\n",
    "    distancias = []\n",
    "    for index, row in df2.iterrows():\n",
    "        lat2, lon2 = row['latitud'], row['longitud']\n",
    "        distancia = geodesic((lat1, lon1), (lat2, lon2)).meters\n",
    "        distancias.append(distancia)\n",
    "    return min(distancias)\n",
    "\n",
    "# Iterar sobre el DataFrame df1\n",
    "for index, row in df1.iterrows():\n",
    "    latitud, longitud = row['latitud'], row['longitud']\n",
    "    distancia_mas_corta = calcular_distancia(latitud, longitud, df2)\n",
    "    print(f\"La distancia más corta desde el punto ({latitud}, {longitud}) es {distancia_mas_corta} metros.\")\n"
   ]
  },
  {
   "cell_type": "code",
   "execution_count": 7,
   "metadata": {},
   "outputs": [],
   "source": [
    "delitos = pd.read_csv('../Datasets/delitos_2022.csv')\n",
    "robos_all_years = pd.read_csv('../Datasets/robos_all_years.csv')\n",
    "comisarias = pd.read_csv('../Datasets/comisarias-policia-de-la-ciudad.csv')"
   ]
  },
  {
   "cell_type": "code",
   "execution_count": 9,
   "metadata": {},
   "outputs": [
    {
     "data": {
      "text/plain": [
       "(653525, 19)"
      ]
     },
     "execution_count": 9,
     "metadata": {},
     "output_type": "execute_result"
    }
   ],
   "source": [
    "robos_all_years.shape"
   ]
  },
  {
   "cell_type": "code",
   "execution_count": 10,
   "metadata": {},
   "outputs": [
    {
     "data": {
      "text/plain": [
       "354093"
      ]
     },
     "execution_count": 10,
     "metadata": {},
     "output_type": "execute_result"
    }
   ],
   "source": [
    "robos_all_years.duplicated(subset=['latitud', 'longitud']).sum()"
   ]
  },
  {
   "cell_type": "code",
   "execution_count": 11,
   "metadata": {},
   "outputs": [
    {
     "data": {
      "text/plain": [
       "0"
      ]
     },
     "execution_count": 11,
     "metadata": {},
     "output_type": "execute_result"
    }
   ],
   "source": [
    "robos_all_years['latitud'].isna().sum()"
   ]
  },
  {
   "cell_type": "code",
   "execution_count": 5,
   "metadata": {},
   "outputs": [
    {
     "data": {
      "text/html": [
       "<div>\n",
       "<style scoped>\n",
       "    .dataframe tbody tr th:only-of-type {\n",
       "        vertical-align: middle;\n",
       "    }\n",
       "\n",
       "    .dataframe tbody tr th {\n",
       "        vertical-align: top;\n",
       "    }\n",
       "\n",
       "    .dataframe thead th {\n",
       "        text-align: right;\n",
       "    }\n",
       "</style>\n",
       "<table border=\"1\" class=\"dataframe\">\n",
       "  <thead>\n",
       "    <tr style=\"text-align: right;\">\n",
       "      <th></th>\n",
       "      <th>long</th>\n",
       "      <th>lat</th>\n",
       "      <th>id</th>\n",
       "      <th>nombre</th>\n",
       "      <th>calle</th>\n",
       "      <th>altura</th>\n",
       "      <th>calle2</th>\n",
       "      <th>direccion</th>\n",
       "      <th>telefonos</th>\n",
       "      <th>observaciones</th>\n",
       "      <th>observaciones_2</th>\n",
       "      <th>barrio</th>\n",
       "      <th>comuna</th>\n",
       "      <th>codigo_postal</th>\n",
       "      <th>codigo_postal_argentino</th>\n",
       "    </tr>\n",
       "  </thead>\n",
       "  <tbody>\n",
       "    <tr>\n",
       "      <th>0</th>\n",
       "      <td>-58.373245</td>\n",
       "      <td>-34.601906</td>\n",
       "      <td>1</td>\n",
       "      <td>Comisaria Vecinal 1-D</td>\n",
       "      <td>Lavalle</td>\n",
       "      <td>451</td>\n",
       "      <td>NaN</td>\n",
       "      <td>LAVALLE 451</td>\n",
       "      <td>4322-8033/8221</td>\n",
       "      <td>NaN</td>\n",
       "      <td>NaN</td>\n",
       "      <td>SAN NICOLAS</td>\n",
       "      <td>1</td>\n",
       "      <td>1047.0</td>\n",
       "      <td>C1047AAI</td>\n",
       "    </tr>\n",
       "    <tr>\n",
       "      <th>1</th>\n",
       "      <td>-58.424926</td>\n",
       "      <td>-34.628641</td>\n",
       "      <td>37</td>\n",
       "      <td>Comisaria Vecinal 5-B</td>\n",
       "      <td>Muñiz</td>\n",
       "      <td>1250</td>\n",
       "      <td>NaN</td>\n",
       "      <td>MUÑIZ 1250</td>\n",
       "      <td>4922-1229 /4922-3333</td>\n",
       "      <td>NaN</td>\n",
       "      <td>NaN</td>\n",
       "      <td>BOEDO</td>\n",
       "      <td>5</td>\n",
       "      <td>1255.0</td>\n",
       "      <td>C1255ACD</td>\n",
       "    </tr>\n",
       "    <tr>\n",
       "      <th>2</th>\n",
       "      <td>-58.439501</td>\n",
       "      <td>-34.608979</td>\n",
       "      <td>39</td>\n",
       "      <td>Comisaria Vecinal 6-A</td>\n",
       "      <td>Diaz Velez</td>\n",
       "      <td>5152</td>\n",
       "      <td>NaN</td>\n",
       "      <td>DIAZ VELEZ AV. 5152</td>\n",
       "      <td>4982-4509/4520</td>\n",
       "      <td>NaN</td>\n",
       "      <td>NaN</td>\n",
       "      <td>CABALLITO</td>\n",
       "      <td>6</td>\n",
       "      <td>1405.0</td>\n",
       "      <td>C1405DCT</td>\n",
       "    </tr>\n",
       "    <tr>\n",
       "      <th>3</th>\n",
       "      <td>-58.448087</td>\n",
       "      <td>-34.626780</td>\n",
       "      <td>8</td>\n",
       "      <td>Comisaria Vecinal 7-B</td>\n",
       "      <td>Valle</td>\n",
       "      <td>1454</td>\n",
       "      <td>NaN</td>\n",
       "      <td>VALLE 1454</td>\n",
       "      <td>4432-3334/3922</td>\n",
       "      <td>Ubicada en comuna 6, dependencia comuna 7</td>\n",
       "      <td>NaN</td>\n",
       "      <td>CABALLITO</td>\n",
       "      <td>6</td>\n",
       "      <td>1406.0</td>\n",
       "      <td>C1406GTH</td>\n",
       "    </tr>\n",
       "    <tr>\n",
       "      <th>4</th>\n",
       "      <td>-58.453221</td>\n",
       "      <td>-34.620382</td>\n",
       "      <td>38</td>\n",
       "      <td>Comisaria Comunal 6</td>\n",
       "      <td>Avellaneda</td>\n",
       "      <td>1548</td>\n",
       "      <td>NaN</td>\n",
       "      <td>AVELLANEDA AV. 1548</td>\n",
       "      <td>4632-9051/9129</td>\n",
       "      <td>NaN</td>\n",
       "      <td>NaN</td>\n",
       "      <td>CABALLITO</td>\n",
       "      <td>6</td>\n",
       "      <td>1406.0</td>\n",
       "      <td>C1406FYN</td>\n",
       "    </tr>\n",
       "  </tbody>\n",
       "</table>\n",
       "</div>"
      ],
      "text/plain": [
       "        long        lat  id                 nombre       calle  altura calle2  \\\n",
       "0 -58.373245 -34.601906   1  Comisaria Vecinal 1-D     Lavalle     451    NaN   \n",
       "1 -58.424926 -34.628641  37  Comisaria Vecinal 5-B       Muñiz    1250    NaN   \n",
       "2 -58.439501 -34.608979  39  Comisaria Vecinal 6-A  Diaz Velez    5152    NaN   \n",
       "3 -58.448087 -34.626780   8  Comisaria Vecinal 7-B       Valle    1454    NaN   \n",
       "4 -58.453221 -34.620382  38    Comisaria Comunal 6  Avellaneda    1548    NaN   \n",
       "\n",
       "             direccion             telefonos  \\\n",
       "0          LAVALLE 451        4322-8033/8221   \n",
       "1           MUÑIZ 1250  4922-1229 /4922-3333   \n",
       "2  DIAZ VELEZ AV. 5152        4982-4509/4520   \n",
       "3           VALLE 1454        4432-3334/3922   \n",
       "4  AVELLANEDA AV. 1548        4632-9051/9129   \n",
       "\n",
       "                               observaciones  observaciones_2       barrio  \\\n",
       "0                                        NaN              NaN  SAN NICOLAS   \n",
       "1                                        NaN              NaN        BOEDO   \n",
       "2                                        NaN              NaN    CABALLITO   \n",
       "3  Ubicada en comuna 6, dependencia comuna 7              NaN    CABALLITO   \n",
       "4                                        NaN              NaN    CABALLITO   \n",
       "\n",
       "   comuna  codigo_postal codigo_postal_argentino  \n",
       "0       1         1047.0                C1047AAI  \n",
       "1       5         1255.0                C1255ACD  \n",
       "2       6         1405.0                C1405DCT  \n",
       "3       6         1406.0                C1406GTH  \n",
       "4       6         1406.0                C1406FYN  "
      ]
     },
     "execution_count": 5,
     "metadata": {},
     "output_type": "execute_result"
    }
   ],
   "source": [
    "comisarias.head()"
   ]
  },
  {
   "cell_type": "code",
   "execution_count": null,
   "metadata": {},
   "outputs": [],
   "source": [
    "delitos_sample = delitos_sample.dropna(subset=['latitud', 'longitud'])\n",
    "delitos_sample"
   ]
  },
  {
   "cell_type": "code",
   "execution_count": null,
   "metadata": {},
   "outputs": [],
   "source": [
    "# Función para calcular la distancia más corta entre un punto en df1 y todos los puntos en df2\n",
    "def calcular_distancia(lat1, lon1, delitos_sample):\n",
    "    distancias = []\n",
    "    for index, row in delitos_sample.iterrows():\n",
    "        lat2, lon2, id = row['latitud'], row['longitud'], row['id-mapa']\n",
    "        distancia = geodesic((lat1, lon1), (lat2, lon2)).meters\n",
    "        #print(f\"distancias calculada: {distancia}\")\n",
    "        distancias.append(distancia)\n",
    "        #print(f\"id: {id}\")\n",
    "    return min(distancias), id\n",
    "\n",
    "# Iterar sobre el DataFrame df1\n",
    "#distancia_delitos_comisarias = {}\n",
    "for index, row in comisarias.iterrows():\n",
    "    latitud, longitud = row['lat'], row['long']\n",
    "    distancia_mas_corta = calcular_distancia(latitud, longitud, delitos_sample)\n",
    "    \n",
    "    print(f\"La distancia más corta desde el punto ({latitud}, {longitud}) es {distancia_mas_corta} metros.\")"
   ]
  },
  {
   "cell_type": "code",
   "execution_count": null,
   "metadata": {},
   "outputs": [],
   "source": [
    "delitos_sample.head(5)"
   ]
  },
  {
   "cell_type": "code",
   "execution_count": null,
   "metadata": {},
   "outputs": [],
   "source": [
    "comisarias"
   ]
  },
  {
   "cell_type": "code",
   "execution_count": null,
   "metadata": {},
   "outputs": [],
   "source": [
    "delitos_sample['latitud'].iloc[0]"
   ]
  },
  {
   "cell_type": "code",
   "execution_count": null,
   "metadata": {},
   "outputs": [],
   "source": [
    "delitos\n"
   ]
  },
  {
   "cell_type": "code",
   "execution_count": null,
   "metadata": {},
   "outputs": [],
   "source": [
    "# Función para calcular las distancias más cortas y guardar los índices\n",
    "def calcular_distancias_cercanas(df1, df2):\n",
    "    resultados = {\"id_delito\":[],\"distancia\":[],\"id_comisaria\":[]}\n",
    "    for index1, row_df1 in df1.iterrows():\n",
    "        lat_df1, lon_df1, id_df1 = row_df1['latitud'], row_df1['longitud'], row_df1['id-mapa']\n",
    "        #print(lat_df1, lon_df1, id_df1)\n",
    "        \n",
    "        dict_distancia = {}\n",
    "        min_distancia = float('inf')\n",
    "\n",
    "        for index2, row_df2 in df2.iterrows():\n",
    "            \n",
    "            #distancia_mas_cercana = {'id_comisaria' = []}\n",
    "            lat_df2, lon_df2, id_df2 = row_df2['lat'], row_df2['long'], row_df2['id']\n",
    "            distancia = geodesic((lat_df1, lon_df1), (lat_df2, lon_df2)).meters\n",
    "\n",
    "            if distancia < min_distancia:\n",
    "                min_distancia = distancia\n",
    "                dict_distancia[\"id_comisaria\"] = id_df2\n",
    "                dict_distancia['distancia'] = distancia\n",
    "\n",
    "        resultados['id_delito'].append(id_df1)\n",
    "        resultados['distancia'].append(dict_distancia['distancia'])\n",
    "        resultados['id_comisaria'].append(dict_distancia['id_comisaria'])\n",
    "    \n",
    "    resultados_df = pd.DataFrame.from_dict(resultados)\n",
    "    return resultados_df\n",
    "    \n",
    "    \n",
    "calcular_distancias_cercanas(delitos.dropna(subset=['latitud', 'longitud']).head(100), comisarias)\n"
   ]
  },
  {
   "cell_type": "code",
   "execution_count": null,
   "metadata": {},
   "outputs": [],
   "source": [
    "delitos[delitos['id-mapa'] == id_delito]['latitud'].iloc[0]"
   ]
  },
  {
   "cell_type": "code",
   "execution_count": null,
   "metadata": {},
   "outputs": [],
   "source": [
    "id_delito = 102\n",
    "id_comisaria = 2\n",
    "\n",
    "\n",
    "delito_i =(delitos[delitos['id-mapa'] == id_delito]['latitud'].iloc[0], \n",
    "           delitos[delitos['id-mapa'] == id_delito]['longitud'].iloc[0])\n",
    "\n",
    "\n",
    "comisaria_i =(comisarias[comisarias['id'] == id_comisaria]['lat'].iloc[0],\n",
    "               comisarias[comisarias['id'] == id_comisaria]['long'].iloc[0])\n",
    "\n",
    " \n",
    "geodesic((delito_i), (comisaria_i)).meters"
   ]
  },
  {
   "cell_type": "code",
   "execution_count": null,
   "metadata": {},
   "outputs": [],
   "source": [
    "delitos[delitos['id-mapa'] == 102]"
   ]
  }
 ],
 "metadata": {
  "kernelspec": {
   "display_name": "Python 3",
   "language": "python",
   "name": "python3"
  },
  "language_info": {
   "codemirror_mode": {
    "name": "ipython",
    "version": 3
   },
   "file_extension": ".py",
   "mimetype": "text/x-python",
   "name": "python",
   "nbconvert_exporter": "python",
   "pygments_lexer": "ipython3",
   "version": "3.12.1"
  }
 },
 "nbformat": 4,
 "nbformat_minor": 2
}
